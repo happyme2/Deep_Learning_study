{
 "cells": [
  {
   "cell_type": "markdown",
   "id": "e2f23fb3",
   "metadata": {},
   "source": [
    "# 1. 수학과 파이썬"
   ]
  },
  {
   "cell_type": "code",
   "execution_count": 3,
   "id": "326048a1",
   "metadata": {},
   "outputs": [
    {
     "data": {
      "text/plain": [
       "numpy.ndarray"
      ]
     },
     "execution_count": 3,
     "metadata": {},
     "output_type": "execute_result"
    }
   ],
   "source": [
    "import numpy as  np\n",
    "\n",
    "x = np.array([1,2,3])\n",
    "x.__class__ # 클래스 이름 표시"
   ]
  },
  {
   "cell_type": "code",
   "execution_count": 4,
   "id": "c37de289",
   "metadata": {},
   "outputs": [
    {
     "data": {
      "text/plain": [
       "(3,)"
      ]
     },
     "execution_count": 4,
     "metadata": {},
     "output_type": "execute_result"
    }
   ],
   "source": [
    "# 다차원 배열 형상\n",
    "x.shape"
   ]
  },
  {
   "cell_type": "code",
   "execution_count": 5,
   "id": "f36931d2",
   "metadata": {},
   "outputs": [
    {
     "data": {
      "text/plain": [
       "1"
      ]
     },
     "execution_count": 5,
     "metadata": {},
     "output_type": "execute_result"
    }
   ],
   "source": [
    "# 차원수\n",
    "x.ndim"
   ]
  },
  {
   "cell_type": "markdown",
   "id": "536a3a6b",
   "metadata": {},
   "source": [
    "x 는 1차원 배열, 원소수는 3개"
   ]
  },
  {
   "cell_type": "code",
   "execution_count": 7,
   "id": "0340bea7",
   "metadata": {},
   "outputs": [
    {
     "data": {
      "text/plain": [
       "array([[1, 2, 3],\n",
       "       [4, 5, 6]])"
      ]
     },
     "execution_count": 7,
     "metadata": {},
     "output_type": "execute_result"
    }
   ],
   "source": [
    "W = np.array([[1,2,3],[4,5,6]])\n",
    "W"
   ]
  },
  {
   "cell_type": "code",
   "execution_count": 8,
   "id": "17e3670a",
   "metadata": {},
   "outputs": [
    {
     "data": {
      "text/plain": [
       "(2, 3)"
      ]
     },
     "execution_count": 8,
     "metadata": {},
     "output_type": "execute_result"
    }
   ],
   "source": [
    "W.shape"
   ]
  },
  {
   "cell_type": "code",
   "execution_count": 9,
   "id": "15cddf9f",
   "metadata": {},
   "outputs": [
    {
     "data": {
      "text/plain": [
       "2"
      ]
     },
     "execution_count": 9,
     "metadata": {},
     "output_type": "execute_result"
    }
   ],
   "source": [
    "W.ndim"
   ]
  },
  {
   "cell_type": "markdown",
   "id": "81ecf2aa",
   "metadata": {},
   "source": [
    "W는 2차원 배열, 2x3(2행3열) 행렬"
   ]
  },
  {
   "cell_type": "code",
   "execution_count": 20,
   "id": "83b18835",
   "metadata": {},
   "outputs": [
    {
     "name": "stdout",
     "output_type": "stream",
     "text": [
      "W+X: [[ 1  3  5]\n",
      " [ 7  9 11]]\n",
      "W*X: [[ 0  2  6]\n",
      " [12 20 30]]\n"
     ]
    }
   ],
   "source": [
    "# 행렬 원소별 연산\n",
    "W = np.array([[1,2,3],[4,5,6]])\n",
    "X = np.array([[0,1,2],[3,4,5]])\n",
    "print(\"W+X:\",W+X)\n",
    "print(\"W*X:\",W*X)"
   ]
  },
  {
   "cell_type": "code",
   "execution_count": 21,
   "id": "78298612",
   "metadata": {},
   "outputs": [
    {
     "data": {
      "text/plain": [
       "array([[10, 20],\n",
       "       [30, 40]])"
      ]
     },
     "execution_count": 21,
     "metadata": {},
     "output_type": "execute_result"
    }
   ],
   "source": [
    "# 브로드캐스트\n",
    "A = np.array([[1,2],[3,4]])\n",
    "A*10"
   ]
  },
  {
   "cell_type": "code",
   "execution_count": 22,
   "id": "556a5803",
   "metadata": {},
   "outputs": [
    {
     "data": {
      "text/plain": [
       "array([[10, 40],\n",
       "       [30, 80]])"
      ]
     },
     "execution_count": 22,
     "metadata": {},
     "output_type": "execute_result"
    }
   ],
   "source": [
    "A = np.array([[1,2],[3,4]])\n",
    "b = np.array([10,20])\n",
    "A*b"
   ]
  },
  {
   "cell_type": "code",
   "execution_count": 23,
   "id": "ab30538c",
   "metadata": {},
   "outputs": [
    {
     "data": {
      "text/plain": [
       "32"
      ]
     },
     "execution_count": 23,
     "metadata": {},
     "output_type": "execute_result"
    }
   ],
   "source": [
    "# 벡터의 내적\n",
    "a = np.array([1,2,3])\n",
    "b = np.array([4,5,6])\n",
    "np.dot(a,b) #1*4+2*5+3*6"
   ]
  },
  {
   "cell_type": "code",
   "execution_count": 24,
   "id": "e46523ca",
   "metadata": {},
   "outputs": [
    {
     "data": {
      "text/plain": [
       "array([[19, 22],\n",
       "       [43, 50]])"
      ]
     },
     "execution_count": 24,
     "metadata": {},
     "output_type": "execute_result"
    }
   ],
   "source": [
    "# 행렬의 곱\n",
    "A = np.array([[1,2],[3,4]])\n",
    "B = np.array([[5,6],[7,8]])\n",
    "np.matmul(A,B)"
   ]
  },
  {
   "cell_type": "code",
   "execution_count": 25,
   "id": "aba109b2",
   "metadata": {},
   "outputs": [
    {
     "data": {
      "text/plain": [
       "array([[19, 22],\n",
       "       [43, 50]])"
      ]
     },
     "execution_count": 25,
     "metadata": {},
     "output_type": "execute_result"
    }
   ],
   "source": [
    "np.dot(A,B)"
   ]
  },
  {
   "cell_type": "markdown",
   "id": "36c9d4f6",
   "metadata": {},
   "source": [
    "# 2. 신경망의 추론"
   ]
  },
  {
   "cell_type": "markdown",
   "id": "2231677d",
   "metadata": {},
   "source": [
    "미니배치로 완전연결계층에 의한 변환"
   ]
  },
  {
   "cell_type": "code",
   "execution_count": 30,
   "id": "fa9c197d",
   "metadata": {},
   "outputs": [],
   "source": [
    "# 하나의 샘플 데이터 일때 - 미니배치 X\n",
    "import numpy as np\n",
    "\n",
    "W1 = np.random.randn(2,4) #가중치\n",
    "b1 = np.random.randn(4) #편향\n",
    "x = np.random.randn(10,2) #입력 배치 10개씩 2개\n",
    "h = np.matmul(x,W1) + b1"
   ]
  },
  {
   "cell_type": "code",
   "execution_count": 31,
   "id": "87af553b",
   "metadata": {},
   "outputs": [
    {
     "data": {
      "text/plain": [
       "array([[ 0.41360437, -2.31678672]])"
      ]
     },
     "execution_count": 31,
     "metadata": {},
     "output_type": "execute_result"
    }
   ],
   "source": [
    "x   # x[0]은 첫번째 입력 데이터, x[1]은 두번째 입력 데이터"
   ]
  },
  {
   "cell_type": "code",
   "execution_count": 32,
   "id": "35cc019c",
   "metadata": {},
   "outputs": [
    {
     "data": {
      "text/plain": [
       "array([[-3.20108354, -1.38448645,  1.65956746, -2.9809838 ]])"
      ]
     },
     "execution_count": 32,
     "metadata": {},
     "output_type": "execute_result"
    }
   ],
   "source": [
    "h"
   ]
  },
  {
   "cell_type": "code",
   "execution_count": 33,
   "id": "7c5be2c8",
   "metadata": {
    "scrolled": false
   },
   "outputs": [
    {
     "data": {
      "text/plain": [
       "array([[ 0.01333976, -0.6259804 ,  0.37095288, -2.23130077],\n",
       "       [ 0.33625674,  0.24738976, -0.94479458,  1.10943606]])"
      ]
     },
     "execution_count": 33,
     "metadata": {},
     "output_type": "execute_result"
    }
   ],
   "source": [
    "W1"
   ]
  },
  {
   "cell_type": "code",
   "execution_count": 38,
   "id": "4c912abf",
   "metadata": {},
   "outputs": [],
   "source": [
    "# 10개의 샘플 데이터 - 미니배치 \n",
    "import numpy as np\n",
    "\n",
    "W1 = np.random.randn(2,4) #가중치\n",
    "b1 = np.random.randn(4) #편향\n",
    "x = np.random.randn(10,2) #입력 배치 10개씩 2개\n",
    "h = np.matmul(x,W1) + b1"
   ]
  },
  {
   "cell_type": "code",
   "execution_count": 39,
   "id": "98b9beae",
   "metadata": {},
   "outputs": [
    {
     "data": {
      "text/plain": [
       "array([[-9.88096407e-01, -1.55195157e+00],\n",
       "       [-2.61915434e-01,  5.05205729e-04],\n",
       "       [ 1.53541833e-01,  1.19578213e-01],\n",
       "       [-5.88386560e-01, -3.60860653e-01],\n",
       "       [-5.23657245e-01, -3.56391539e-01],\n",
       "       [ 1.40312693e+00, -2.26021915e-01],\n",
       "       [-1.44105659e+00, -1.68453011e+00],\n",
       "       [-5.59082129e-01, -3.48824285e-02],\n",
       "       [-1.71256267e-01, -3.94940715e-01],\n",
       "       [-2.89320946e-01,  8.03973201e-01]])"
      ]
     },
     "execution_count": 39,
     "metadata": {},
     "output_type": "execute_result"
    }
   ],
   "source": [
    "x   # x[0]은 첫번째 입력 데이터, x[1]은 두번째 입력 데이터"
   ]
  },
  {
   "cell_type": "code",
   "execution_count": 40,
   "id": "45310a67",
   "metadata": {},
   "outputs": [
    {
     "data": {
      "text/plain": [
       "array([[ 0.53650578,  0.96068651,  3.58961802,  4.87968841],\n",
       "       [-0.24061606, -1.29398949,  2.17597131, -0.59371071],\n",
       "       [-0.64640737, -1.88038916,  1.64939786, -1.72091971],\n",
       "       [ 0.09177273, -0.58822674,  2.68801567,  0.98990659],\n",
       "       [ 0.02926002, -0.66670733,  2.61114125,  0.85098235],\n",
       "       [-1.83140845, -3.00038821,  0.32381278, -3.27741112],\n",
       "       [ 0.97906659,  1.60254175,  4.16473627,  6.11583364],\n",
       "       [ 0.04712473, -0.92008949,  2.53435117,  0.08282856],\n",
       "       [-0.30790024, -1.03645479,  2.21569078,  0.25850457],\n",
       "       [-0.25478827, -1.99745267,  1.91302571, -2.63355438]])"
      ]
     },
     "execution_count": 40,
     "metadata": {},
     "output_type": "execute_result"
    }
   ],
   "source": [
    "h"
   ]
  },
  {
   "cell_type": "code",
   "execution_count": 41,
   "id": "1ffb69a4",
   "metadata": {
    "scrolled": true
   },
   "outputs": [
    {
     "data": {
      "text/plain": [
       "array([[-0.96227171, -1.14928662, -1.16229665, -1.96631645],\n",
       "       [-0.05046095, -0.91473459, -0.36690812, -2.60586806]])"
      ]
     },
     "execution_count": 41,
     "metadata": {},
     "output_type": "execute_result"
    }
   ],
   "source": [
    "W1"
   ]
  },
  {
   "cell_type": "code",
   "execution_count": 3,
   "id": "0f681e19",
   "metadata": {},
   "outputs": [],
   "source": [
    "# 전체 코드 종합 정리\n",
    "import numpy as np\n",
    "\n",
    "# sigmoid 함수\n",
    "def sigmoid(x):\n",
    "    return 1/(1+np.exp(-x))\n",
    "\n",
    "# 입력,가중치,편향\n",
    "x = np.random.randn(10,2)  # 2차원 데이터 10개가 미니배치로 처리된다.\n",
    "W1 = np.random.randn(2,4)  # (10,2) * (2,4) = (10,4)  은닉층 뉴련 4개\n",
    "b1 = np.random.randn(4)\n",
    "\n",
    "h = np.matmul(x,W1) + b1 # 은닉층 출력 (10,4)\n",
    "a = sigmoid(h)\n",
    "\n",
    "W2 = np.random.randn(4,3) # (10,4) * (4,3) = (10,3) 최종 출력은 3이다.\n",
    "b2 = np.random.randn(3)\n",
    "\n",
    "s = np.matmul(a,W2) + b2 # 최종 출력 (10,3) : 3차원 데이터 10개가 한번에 처리되어 변환되었다.\n",
    "                        # 3차원 데이터 : 각 차원의 값을 이용하여 3 클래스 분류가 된다.\n",
    "                        # 출력된 3차원 벡터의 각 차원은 각 클래스에 대응하는 점수이다. "
   ]
  },
  {
   "cell_type": "code",
   "execution_count": 4,
   "id": "09f0c417",
   "metadata": {},
   "outputs": [
    {
     "data": {
      "text/plain": [
       "array([[-0.23103062,  1.64480411],\n",
       "       [ 1.04448933, -0.96611174],\n",
       "       [-0.85959121,  0.21105908],\n",
       "       [-0.88079755, -0.9679427 ],\n",
       "       [ 0.4407228 , -0.98630427],\n",
       "       [-0.99067592,  0.32500561],\n",
       "       [ 0.21036924, -0.63649026],\n",
       "       [ 0.21758813, -1.04857776],\n",
       "       [-0.21754266,  0.5780632 ],\n",
       "       [ 1.11392173,  0.53190679]])"
      ]
     },
     "execution_count": 4,
     "metadata": {},
     "output_type": "execute_result"
    }
   ],
   "source": [
    "x "
   ]
  },
  {
   "cell_type": "code",
   "execution_count": 5,
   "id": "8b6671ae",
   "metadata": {},
   "outputs": [
    {
     "name": "stdout",
     "output_type": "stream",
     "text": [
      "(10, 2)\n",
      "(10, 4)\n",
      "(10, 3)\n"
     ]
    }
   ],
   "source": [
    "print(x.shape)\n",
    "print(h.shape)\n",
    "print(s.shape)"
   ]
  },
  {
   "cell_type": "markdown",
   "id": "446c051d",
   "metadata": {},
   "source": [
    "# 계층 클래스화 - 신경망 추론(forward())\n",
    "Affine 계층, Sigmoid 계층, forward() "
   ]
  },
  {
   "cell_type": "code",
   "execution_count": 14,
   "id": "601b5e4e",
   "metadata": {},
   "outputs": [],
   "source": [
    "import numpy as np\n",
    "\n",
    "# 시그모이드 함수 클래스 구현\n",
    "class Sigmoid:\n",
    "    def __init__(self):\n",
    "        self.params = []     # sigmoid는 학습할 매개변수가 없음 = 빈 리스트 \n",
    "    \n",
    "    def forward(self,x):\n",
    "        return 1 / (1+np.exp(-x))\n",
    "    \n",
    "# Affine 계층 클래스 구현\n",
    "class Affine:\n",
    "    def __init__(self,W,b):\n",
    "        self.params = [W,b]  # 초기화될 때 Aiffine 계층의 매개변수 (가중치,편향)을 받는다. \n",
    "                            # 신경망 학습 시 수시로 갱신됨\n",
    "        \n",
    "    def forward(self,x):\n",
    "        W,b = self.params\n",
    "        out = np.matmul(x,W) + b\n",
    "        return out"
   ]
  },
  {
   "cell_type": "markdown",
   "id": "a6afce05",
   "metadata": {},
   "source": [
    "학습해야 하는 매개변수가 모두 인스턴스 변수이 params에 존재한다. 이 덕분에 신경망의 모든 매개변수를 간단하게 사용가능하다."
   ]
  },
  {
   "cell_type": "markdown",
   "id": "c36d0cc6",
   "metadata": {},
   "source": [
    "![image](https://user-images.githubusercontent.com/77032087/130582430-68a4ac90-dcf6-4e80-84bf-b96100477d01.png)\n",
    "\n",
    "입력 X 가 Affine 계층→Sigmoid 계층→Affine 계층을 거쳐 점수 S로 출력된다.\n",
    "\n",
    "이러한 신경망을 TwoLayerNet이라는 클래스로 추상화하고, 주요한 추론 처리는 predict(x) 메서드이다."
   ]
  },
  {
   "cell_type": "code",
   "execution_count": 17,
   "id": "7aa73e10",
   "metadata": {},
   "outputs": [],
   "source": [
    "class TwoLayerNet:\n",
    "    def __init__(self,input_size,hidden_size,output_size):\n",
    "        I,H,O = input_size,hidden_size,output_size\n",
    "        \n",
    "        # 가중치와 편향 초기화\n",
    "        W1 = np.random.randn(I,H)\n",
    "        b1 = np.random.randn(H)\n",
    "        W2 = np.random.randn(H,O)\n",
    "        b2 = np.random.randn(O)\n",
    "        \n",
    "        # 3개 계층 생성\n",
    "        self.layers = [\n",
    "            Affine(W1,b1),\n",
    "            Sigmoid(),\n",
    "            Affine(W2,b2)\n",
    "        ]\n",
    "        \n",
    "        # 모든 가중치를 리스트에 모은다.\n",
    "        self.params = []\n",
    "        for layers in self.layers:\n",
    "            self.params += layers.params # 각 계층은 필요한 매개변수를 인스턴스 변수 params로 보관하고 있음\n",
    "        \n",
    "        # TwoLayerNet의 params 변수에는 필요한 모든 학습 매개변수가 담겼다.\n",
    "        \n",
    "    def predict(self,x):\n",
    "        for layers in self.layers:\n",
    "            x = layers.forward(x)\n",
    "            \n",
    "        return x"
   ]
  },
  {
   "cell_type": "code",
   "execution_count": 18,
   "id": "ae13f89c",
   "metadata": {},
   "outputs": [],
   "source": [
    "# 입력데이터 X에 대한 출력 점수 S 를 구할 수 있다.\n",
    "x = np.random.randn(10,2)\n",
    "model = TwoLayerNet(2,4,3)\n",
    "s = model.predict(x)"
   ]
  },
  {
   "cell_type": "code",
   "execution_count": 19,
   "id": "9d999e00",
   "metadata": {},
   "outputs": [
    {
     "data": {
      "text/plain": [
       "array([[ 3.04574517e-02,  1.16679601e-01],\n",
       "       [ 3.93822877e-01,  1.25041689e+00],\n",
       "       [-1.83294443e+00, -1.91999650e+00],\n",
       "       [-1.50849984e+00,  1.63230535e+00],\n",
       "       [-1.36844526e+00,  8.95303137e-01],\n",
       "       [-5.66293096e-02, -1.45457793e+00],\n",
       "       [ 1.01534960e+00,  6.53730848e-04],\n",
       "       [-6.39901597e-02, -5.54455566e-01],\n",
       "       [-3.27376363e-01, -3.23634314e-01],\n",
       "       [ 1.60667430e+00, -9.92828777e-01]])"
      ]
     },
     "execution_count": 19,
     "metadata": {},
     "output_type": "execute_result"
    }
   ],
   "source": [
    "x"
   ]
  },
  {
   "cell_type": "code",
   "execution_count": 20,
   "id": "9a02e53c",
   "metadata": {
    "scrolled": true
   },
   "outputs": [
    {
     "data": {
      "text/plain": [
       "array([[ 1.49814974,  1.19450326, -3.0715319 ],\n",
       "       [ 2.37242636,  1.01547527, -2.3974578 ],\n",
       "       [-0.49021312,  2.58941221, -4.12396683],\n",
       "       [ 1.24633056,  2.26168815, -2.50806617],\n",
       "       [ 1.08779988,  2.27590244, -2.55495388],\n",
       "       [ 0.60030268,  1.13258232, -3.40351503],\n",
       "       [ 1.89709211,  0.33853062, -2.99775334],\n",
       "       [ 1.02216424,  1.21609753, -3.37403232],\n",
       "       [ 1.00112524,  1.50325833, -3.31921416],\n",
       "       [ 1.91222394,  0.03545938, -2.90021788]])"
      ]
     },
     "execution_count": 20,
     "metadata": {},
     "output_type": "execute_result"
    }
   ],
   "source": [
    "s"
   ]
  },
  {
   "cell_type": "markdown",
   "id": "34065450",
   "metadata": {},
   "source": [
    "## 손실함수 - 소프트맥스/교차 엔트로피 오차"
   ]
  },
  {
   "cell_type": "code",
   "execution_count": null,
   "id": "41512968",
   "metadata": {},
   "outputs": [],
   "source": [
    "class SoftmaxWithLoss:\n",
    "    def __init__(self):\n",
    "        self.params, self.grads = [], []\n",
    "        self.y = None  # softmax의 출력\n",
    "        self.t = None  # 정답 레이블\n",
    "\n",
    "    def forward(self, x, t):\n",
    "        self.t = t\n",
    "        self.y = softmax(x)\n",
    "\n",
    "        # 정답 레이블이 원핫 벡터일 경우 정답의 인덱스로 변환\n",
    "        if self.t.size == self.y.size:\n",
    "            self.t = self.t.argmax(axis=1)\n",
    "\n",
    "        loss = cross_entropy_error(self.y, self.t)\n",
    "        return loss\n",
    "\n",
    "    def backward(self, dout=1):\n",
    "        batch_size = self.t.shape[0]\n",
    "\n",
    "        dx = self.y.copy()\n",
    "        dx[np.arange(batch_size), self.t] -= 1\n",
    "        dx *= dout\n",
    "        dx = dx / batch_size\n",
    "\n",
    "        return dx"
   ]
  },
  {
   "cell_type": "markdown",
   "id": "30ff2ae5",
   "metadata": {},
   "source": []
  }
 ],
 "metadata": {
  "kernelspec": {
   "display_name": "mee",
   "language": "python",
   "name": "mee"
  },
  "language_info": {
   "codemirror_mode": {
    "name": "ipython",
    "version": 3
   },
   "file_extension": ".py",
   "mimetype": "text/x-python",
   "name": "python",
   "nbconvert_exporter": "python",
   "pygments_lexer": "ipython3",
   "version": "3.7.11"
  }
 },
 "nbformat": 4,
 "nbformat_minor": 5
}
